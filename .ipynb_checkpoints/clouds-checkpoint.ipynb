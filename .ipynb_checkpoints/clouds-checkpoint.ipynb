{
 "cells": [
  {
   "cell_type": "markdown",
   "metadata": {},
   "source": [
    "# Concepts\n",
    "\n",
    "Chemistry and Surface Processes\n",
    "\n",
    "* chemical equilibrium \n",
    " - atoms are neutral at T<2000 K\n",
    " - thermodynamic equilibrium\n",
    " $$ G=U+PV-TS $$\n",
    " - Clausius–Clapeyron equation (c.f. [Sanchez-Lavega et al. 2012](http://aapt.scitation.org/doi/pdf/10.1119/1.1645279))\n",
    " - \n",
    "\n",
    "* "
   ]
  },
  {
   "cell_type": "code",
   "execution_count": null,
   "metadata": {
    "collapsed": true
   },
   "outputs": [],
   "source": []
  },
  {
   "cell_type": "markdown",
   "metadata": {},
   "source": [
    "## Clausius–Clapeyron equation\n",
    "\n",
    "* what type of clouds and \n",
    "* at what altitude will form in any planet\n",
    "\n",
    "\n",
    "## Vertical termperature profile in atmnospheres\n",
    "* assumption 1: atmosphere is at rest ~with no heat transport by motion\n",
    "* Because it is in hydrostatic equilibrium (H.E.), the temperature will depend only on altitude; this dependence is called the vertical temperature profile\n",
    "* assumption 2: atmosphere obeys the ideal gas law $$ P=\\rho R^*T \\quad [1]$$ where P is the pressure, T is the temperature, r is the density of the gas, and R* is the specific gas constant = the universal gas constant divided by the mean atmospheric molecular weight $\\mu$.\n",
    "* H.E. implies $$\\frac{dP}{dz}=-\\rho g, \\quad [2]$$ where $z$ is the vertical coordinate and $g$ is the acceleration due to gravity\n",
    "* Upon integration we obtain the altitude-pressure relation, which requires knowledge of the vertical temperature profile $T(z)$, $$P(z)=P_0\\exp\\Big[\\frac{-g}{R*}\\int_{z_0}^{z}{\\frac{dz'}{T(z')}}\\Big] , \\quad [3]$$ where $P_0 = P(z_0)$.\n",
    "* T(z) depends on radiative and dynamic~advective or convective energy transfer \n",
    "* Limitation: concentrate on the troposphere~the weather layer!, which is the atmospheric layer where the temperature decreases with altitude $(dT/dz<0)$ the atmospheric mass resides and clouds form"
   ]
  },
  {
   "cell_type": "markdown",
   "metadata": {},
   "source": [
    "* Case 1: Isothermal atmosphere (T(z)=T_0): $$P(z)=P_0\\exp\\Big (-\\frac{z}{H})\\Big), \\quad [4]$$ where the scale height $$H=\\frac{R^*T_0}{g}$$.\n",
    "  * $H$ is a length scale to characterize vertical motions in the atmosphere\n",
    "* Case 2: Adiabatic (no heat exchange) and dry atmosphere \n",
    "  * Using 1st LT, first 2 eqns above, and $c_p=C_V+R^*$ yields $$\\Gamma_a=-\\frac{dT}{dz}=\\frac{g}{c_p}$$ where $\\Gamma_p$ is the adiabatic gradient and c_p(c_V) is the specific heat at constant pressure (volume) (per unit mass)\n",
    "  * assuming: $\\Gamma_a=$const ($g$ is constant and $c_p$ does not depend on the temperature) yields $$ T(z)=T_0-\\Gamma_a(z-z_0) \\quad [5]$$\n",
    "  * After substituting Eq. [5] into Eq. [3], $$P(z)=P_0 \\Big[1-\\frac{\\Gamma_a(z-z_0)}{T_0} \\Big]^{\\frac{g}{\\Gamma_aR^*}} , \\quad [6]$$\n",
    "  * $dT/dz<\\Gamma_a$ in real atmospheres\n",
    "  * Eq. [5] and [6] give the dry adiabatic profile $$P(T)=P_0\\Big(\\frac{T}{T_0}\\Big)^{\\frac{g}{\\Gamma_aR^*}} \\quad [7]$$"
   ]
  },
  {
   "cell_type": "markdown",
   "metadata": {},
   "source": [
    "## Clausius-Clapeyron Equation\n",
    "\n",
    "* low temperatures and pressures $\\rightarrow$ volatile gas\n",
    "* intervening elements in their composition: C, H, O, N, CO2 , CH4 , NH3 , and SH2\n",
    "* weakest bond strength forms clouds at the lowest temperature\n",
    "* amount of condensable gases = mass mixing ratio: $m_C =\\rho_V/\\rho$ (vapor mass/total mass)\n",
    "* Since partial pressure of condensable gases satisfies $P_p \\ll P$ (total pressure), use Dalton’s and ideal gas equations to get $m_C = \\epsilon P_p/P$ where $\\epsilon = \\mu_V/\\mu$ (vapor molecular weight / mean atmospheric molecular weight)\n",
    "* If saturation occurs, then the saturated mass mixing ratio is given by $$ m_S(T,P)=\\epsilon\\frac{P_V(T)}{P}, \\quad [8]$$ where where $P_V(T)$ is the saturated vapor pressure\n",
    "* relative humidity is $$ f(T,P)=100P_V/P_V(T) =100(m_C /m_S)$$\n",
    "* the slope of the vapor pressure curve $P_V(T)$ in Eq. [8] marks the phase transition where two phases are in equilibrium and is known as the Clausius–Clapeyron equation $$ \\frac{dP_V}{dT}=\\frac{L}{T(V_2-V_1)},$$ where $L$ is the latent heat of the phase transition and $V_i=1/\\rho_i$ is the specific volume (phase 1 = vapor phase , 2 = liquid or ice phase)\n",
    "* $$P_V(T)=P_{V0} \\exp \\Big[ L \\Big (\\frac{1}{R_VT_0} - \\frac{1}{R_VT} \\Big ) \\Big] $$ where $P_V{0}$ is the saturation vapor pressure at temperature $T_0$ and $R_V$ the specific gas constant for the vapor\n",
    "* general form for the saturation vapor pressure curve: $$ \\ln (P_V)=\\ln(C)+\\frac{1}{R_V}\\Big[-\\frac{L_0}{T} + \\Delta \\alpha \\ln T + \\frac{\\Delta \\beta}{2}T +O(T^2) \\Big],$$ where $L_0$ is an integration constant, $\\alpha$ and $\\beta$ are empirically determined constants for each phase, and $\\Delta \\alpha$ and $\\Delta \\beta$ indicate the change of the constants $\\alpha$ and $\\beta$ between the two phases."
   ]
  },
  {
   "cell_type": "code",
   "execution_count": 26,
   "metadata": {
    "collapsed": false
   },
   "outputs": [],
   "source": [
    "raw_table = [\"44.01 0.19 0.85 8.89 10.50 731 92 \\\n",
    "28.97 0.29 1.00 9.80 9.80 288 1.013 \\\n",
    "44.01 0.19 0.83 3.74 4.50 214 0.07 \\\n",
    "2.22 3.75 12.36 24.25 2.00 165 1.00 \\\n",
    "2.14 3.89 14.01 10.00 0.70 134 1.00 \\\n",
    "28.67 0.29 1.04 1.35 1.30 94 1.50 \\\n",
    "2.30 3.61 13.01 8.80 0.70 76 1.00 \\\n",
    "2.30 3.61 13.01 11.10 0.85 76 1.00 \\\n",
    "2.00 4.16 14.00 8.00 0.60 1300 1.00\"]"
   ]
  },
  {
   "cell_type": "code",
   "execution_count": 93,
   "metadata": {
    "collapsed": false
   },
   "outputs": [],
   "source": [
    "components = [{'CO2':0.96, 'N2':0.035}, \n",
    " {'N2': 0.78, 'O2': 0.21}, \n",
    " {'CO2':0.953, 'N2':0.27}, \n",
    " {'H2':0.864, 'He':0.136}, \n",
    " {'H2':0.85, 'He':0.14},\n",
    " {'N2':0.65, 'Ar':0.25}, #{'0.0.98':, 'Ar':0.0}\n",
    " {'H2':0.85, 'He':0.15},\n",
    " {'H2':0.79, 'He':0.21},\n",
    " {'H2':1.0}]"
   ]
  },
  {
   "cell_type": "code",
   "execution_count": 120,
   "metadata": {
    "collapsed": false
   },
   "outputs": [],
   "source": [
    "import numpy as np\n",
    "\n",
    "planets = 'Venus Earth Mars Jupiter Saturn Titan Uranus Neptune HD209458'.split(' ')\n",
    "variables = 'mu R* C_p g gamma_a T_0 P_0'.split(' ')\n",
    "\n",
    "table1 = np.array(raw_table[0].strip().split(' ')).reshape((len(planets), len(variables)))"
   ]
  },
  {
   "cell_type": "code",
   "execution_count": 121,
   "metadata": {
    "collapsed": false
   },
   "outputs": [
    {
     "data": {
      "text/plain": [
       "(9, 7)"
      ]
     },
     "execution_count": 121,
     "metadata": {},
     "output_type": "execute_result"
    }
   ],
   "source": [
    "table1.shape"
   ]
  },
  {
   "cell_type": "code",
   "execution_count": 122,
   "metadata": {
    "collapsed": false
   },
   "outputs": [
    {
     "data": {
      "text/plain": [
       "array([['44.01', '0.19', '0.85', '8.89', '10.50', '731', '92'],\n",
       "       ['28.97', '0.29', '1.00', '9.80', '9.80', '288', '1.013'],\n",
       "       ['44.01', '0.19', '0.83', '3.74', '4.50', '214', '0.07'],\n",
       "       ['2.22', '3.75', '12.36', '24.25', '2.00', '165', '1.00'],\n",
       "       ['2.14', '3.89', '14.01', '10.00', '0.70', '134', '1.00'],\n",
       "       ['28.67', '0.29', '1.04', '1.35', '1.30', '94', '1.50'],\n",
       "       ['2.30', '3.61', '13.01', '8.80', '0.70', '76', '1.00'],\n",
       "       ['2.30', '3.61', '13.01', '11.10', '0.85', '76', '1.00'],\n",
       "       ['2.00', '4.16', '14.00', '8.00', '0.60', '1300', '1.00']], \n",
       "      dtype='<U5')"
      ]
     },
     "execution_count": 122,
     "metadata": {},
     "output_type": "execute_result"
    }
   ],
   "source": [
    "table1"
   ]
  },
  {
   "cell_type": "code",
   "execution_count": 113,
   "metadata": {
    "collapsed": false
   },
   "outputs": [],
   "source": [
    "import pandas as pd\n",
    "\n",
    "df = pd.DataFrame(table1, columns=variables, index=planets)    "
   ]
  },
  {
   "cell_type": "code",
   "execution_count": 114,
   "metadata": {
    "collapsed": false
   },
   "outputs": [
    {
     "data": {
      "text/html": [
       "<div>\n",
       "<table border=\"1\" class=\"dataframe\">\n",
       "  <thead>\n",
       "    <tr style=\"text-align: right;\">\n",
       "      <th></th>\n",
       "      <th>mu</th>\n",
       "      <th>R*</th>\n",
       "      <th>C_p</th>\n",
       "      <th>g</th>\n",
       "      <th>gamma_a</th>\n",
       "      <th>T_0</th>\n",
       "      <th>P_0</th>\n",
       "      <th>composition</th>\n",
       "    </tr>\n",
       "  </thead>\n",
       "  <tbody>\n",
       "    <tr>\n",
       "      <th>Venus</th>\n",
       "      <td>44.01</td>\n",
       "      <td>0.19</td>\n",
       "      <td>0.85</td>\n",
       "      <td>8.89</td>\n",
       "      <td>10.50</td>\n",
       "      <td>731</td>\n",
       "      <td>92</td>\n",
       "      <td>{'CO2': 0.96, 'N2': 0.035}</td>\n",
       "    </tr>\n",
       "    <tr>\n",
       "      <th>Earth</th>\n",
       "      <td>28.97</td>\n",
       "      <td>0.29</td>\n",
       "      <td>1.00</td>\n",
       "      <td>9.80</td>\n",
       "      <td>9.80</td>\n",
       "      <td>288</td>\n",
       "      <td>1.013</td>\n",
       "      <td>{'O2': 0.21, 'N2': 0.78}</td>\n",
       "    </tr>\n",
       "    <tr>\n",
       "      <th>Mars</th>\n",
       "      <td>44.01</td>\n",
       "      <td>0.19</td>\n",
       "      <td>0.83</td>\n",
       "      <td>3.74</td>\n",
       "      <td>4.50</td>\n",
       "      <td>214</td>\n",
       "      <td>0.07</td>\n",
       "      <td>{'CO2': 0.953, 'N2': 0.27}</td>\n",
       "    </tr>\n",
       "    <tr>\n",
       "      <th>Jupiter</th>\n",
       "      <td>2.22</td>\n",
       "      <td>3.75</td>\n",
       "      <td>12.36</td>\n",
       "      <td>24.25</td>\n",
       "      <td>2.00</td>\n",
       "      <td>165</td>\n",
       "      <td>1.00</td>\n",
       "      <td>{'He': 0.136, 'H2': 0.864}</td>\n",
       "    </tr>\n",
       "    <tr>\n",
       "      <th>Saturn</th>\n",
       "      <td>2.14</td>\n",
       "      <td>3.89</td>\n",
       "      <td>14.01</td>\n",
       "      <td>10.00</td>\n",
       "      <td>0.70</td>\n",
       "      <td>134</td>\n",
       "      <td>1.00</td>\n",
       "      <td>{'He': 0.14, 'H2': 0.85}</td>\n",
       "    </tr>\n",
       "    <tr>\n",
       "      <th>Titan</th>\n",
       "      <td>28.67</td>\n",
       "      <td>0.29</td>\n",
       "      <td>1.04</td>\n",
       "      <td>1.35</td>\n",
       "      <td>1.30</td>\n",
       "      <td>94</td>\n",
       "      <td>1.50</td>\n",
       "      <td>{'Ar': 0.25, 'N2': 0.65}</td>\n",
       "    </tr>\n",
       "    <tr>\n",
       "      <th>Uranus</th>\n",
       "      <td>2.30</td>\n",
       "      <td>3.61</td>\n",
       "      <td>13.01</td>\n",
       "      <td>8.80</td>\n",
       "      <td>0.70</td>\n",
       "      <td>76</td>\n",
       "      <td>1.00</td>\n",
       "      <td>{'He': 0.15, 'H2': 0.85}</td>\n",
       "    </tr>\n",
       "    <tr>\n",
       "      <th>Neptune</th>\n",
       "      <td>2.30</td>\n",
       "      <td>3.61</td>\n",
       "      <td>13.01</td>\n",
       "      <td>11.10</td>\n",
       "      <td>0.85</td>\n",
       "      <td>76</td>\n",
       "      <td>1.00</td>\n",
       "      <td>{'He': 0.21, 'H2': 0.79}</td>\n",
       "    </tr>\n",
       "    <tr>\n",
       "      <th>HD209458</th>\n",
       "      <td>2.00</td>\n",
       "      <td>4.16</td>\n",
       "      <td>14.00</td>\n",
       "      <td>8.00</td>\n",
       "      <td>0.60</td>\n",
       "      <td>1300</td>\n",
       "      <td>1.00</td>\n",
       "      <td>{'H2': 1.0}</td>\n",
       "    </tr>\n",
       "  </tbody>\n",
       "</table>\n",
       "</div>"
      ],
      "text/plain": [
       "             mu    R*    C_p      g gamma_a   T_0    P_0  \\\n",
       "Venus     44.01  0.19   0.85   8.89   10.50   731     92   \n",
       "Earth     28.97  0.29   1.00   9.80    9.80   288  1.013   \n",
       "Mars      44.01  0.19   0.83   3.74    4.50   214   0.07   \n",
       "Jupiter    2.22  3.75  12.36  24.25    2.00   165   1.00   \n",
       "Saturn     2.14  3.89  14.01  10.00    0.70   134   1.00   \n",
       "Titan     28.67  0.29   1.04   1.35    1.30    94   1.50   \n",
       "Uranus     2.30  3.61  13.01   8.80    0.70    76   1.00   \n",
       "Neptune    2.30  3.61  13.01  11.10    0.85    76   1.00   \n",
       "HD209458   2.00  4.16  14.00   8.00    0.60  1300   1.00   \n",
       "\n",
       "                         composition  \n",
       "Venus     {'CO2': 0.96, 'N2': 0.035}  \n",
       "Earth       {'O2': 0.21, 'N2': 0.78}  \n",
       "Mars      {'CO2': 0.953, 'N2': 0.27}  \n",
       "Jupiter   {'He': 0.136, 'H2': 0.864}  \n",
       "Saturn      {'He': 0.14, 'H2': 0.85}  \n",
       "Titan       {'Ar': 0.25, 'N2': 0.65}  \n",
       "Uranus      {'He': 0.15, 'H2': 0.85}  \n",
       "Neptune     {'He': 0.21, 'H2': 0.79}  \n",
       "HD209458                 {'H2': 1.0}  "
      ]
     },
     "execution_count": 114,
     "metadata": {},
     "output_type": "execute_result"
    }
   ],
   "source": [
    "df['composition']=components #np.reshape(components, (9,1))\n",
    "df"
   ]
  },
  {
   "cell_type": "code",
   "execution_count": 153,
   "metadata": {
    "collapsed": false,
    "scrolled": true
   },
   "outputs": [
    {
     "data": {
      "text/plain": [
       "{'CO2': 0.96, 'N2': 0.035}"
      ]
     },
     "execution_count": 153,
     "metadata": {},
     "output_type": "execute_result"
    }
   ],
   "source": [
    "df.composition['Venus']"
   ]
  },
  {
   "cell_type": "code",
   "execution_count": 111,
   "metadata": {
    "collapsed": false
   },
   "outputs": [],
   "source": [
    "raw2_table = [\"16.256 865.8 np.nan np.nan \\\n",
    "25.096 3148.2 np.nan -8.7e-3 \\\n",
    "26.100 639.6 np.nan -1.7e-3 \\\n",
    "27.863 2016 -0.888 np.nan \\\n",
    "75.678 2915.7 -1.760 7.8e-4 \\\n",
    "1.627 553.1 1.002 -4.1e-3 \\\n",
    "17.064 747 np.nan -2.9e-3 \\\n",
    "10.136 521.4 np.nan np.nan \\\n",
    "1.894 7097 np.nan np.nan \\\n",
    "11.554 4877.5 np.nan np.nan\"]"
   ]
  },
  {
   "cell_type": "code",
   "execution_count": 118,
   "metadata": {
    "collapsed": false
   },
   "outputs": [],
   "source": [
    "names = 'SO4H2 H2O CO2 NH3 NH4SH CH4 SH2 C2H6 Fe MgSiO3'.split(' ')\n",
    "columns2 = 'ln(C) L_0 Dalpha Dbeta/2'.split(' ')\n",
    "\n",
    "table2 = np.array(raw_table2[0].strip().split(' ')).reshape((len(names)),len(columns2))"
   ]
  },
  {
   "cell_type": "code",
   "execution_count": 123,
   "metadata": {
    "collapsed": false
   },
   "outputs": [
    {
     "data": {
      "text/html": [
       "<div>\n",
       "<table border=\"1\" class=\"dataframe\">\n",
       "  <thead>\n",
       "    <tr style=\"text-align: right;\">\n",
       "      <th></th>\n",
       "      <th>ln(C)</th>\n",
       "      <th>L_0</th>\n",
       "      <th>Dalpha</th>\n",
       "      <th>Dbeta/2</th>\n",
       "    </tr>\n",
       "  </thead>\n",
       "  <tbody>\n",
       "    <tr>\n",
       "      <th>SO4H2</th>\n",
       "      <td>16.256</td>\n",
       "      <td>865.8</td>\n",
       "      <td>np.nan</td>\n",
       "      <td>np.nan</td>\n",
       "    </tr>\n",
       "    <tr>\n",
       "      <th>H2O</th>\n",
       "      <td>25.096</td>\n",
       "      <td>3148.2</td>\n",
       "      <td>np.nan</td>\n",
       "      <td>-8.7e-3</td>\n",
       "    </tr>\n",
       "    <tr>\n",
       "      <th>CO2</th>\n",
       "      <td>26.100</td>\n",
       "      <td>639.6</td>\n",
       "      <td>np.nan</td>\n",
       "      <td>-1.7e-3</td>\n",
       "    </tr>\n",
       "    <tr>\n",
       "      <th>NH3</th>\n",
       "      <td>27.863</td>\n",
       "      <td>2016</td>\n",
       "      <td>-0.888</td>\n",
       "      <td>np.nan</td>\n",
       "    </tr>\n",
       "    <tr>\n",
       "      <th>NH4SH</th>\n",
       "      <td>75.678</td>\n",
       "      <td>2915.7</td>\n",
       "      <td>-1.760</td>\n",
       "      <td>7.8e-4</td>\n",
       "    </tr>\n",
       "    <tr>\n",
       "      <th>CH4</th>\n",
       "      <td>1.627</td>\n",
       "      <td>553.1</td>\n",
       "      <td>1.002</td>\n",
       "      <td>-4.1e-3</td>\n",
       "    </tr>\n",
       "    <tr>\n",
       "      <th>SH2</th>\n",
       "      <td>17.064</td>\n",
       "      <td>747</td>\n",
       "      <td>np.nan</td>\n",
       "      <td>-2.9e-3</td>\n",
       "    </tr>\n",
       "    <tr>\n",
       "      <th>C2H6</th>\n",
       "      <td>10.136</td>\n",
       "      <td>521.4</td>\n",
       "      <td>np.nan</td>\n",
       "      <td>np.nan</td>\n",
       "    </tr>\n",
       "    <tr>\n",
       "      <th>Fe</th>\n",
       "      <td>1.894</td>\n",
       "      <td>7097</td>\n",
       "      <td>np.nan</td>\n",
       "      <td>np.nan</td>\n",
       "    </tr>\n",
       "    <tr>\n",
       "      <th>MgSiO3</th>\n",
       "      <td>11.554</td>\n",
       "      <td>4877.5</td>\n",
       "      <td>np.nan</td>\n",
       "      <td>np.nan</td>\n",
       "    </tr>\n",
       "  </tbody>\n",
       "</table>\n",
       "</div>"
      ],
      "text/plain": [
       "         ln(C)     L_0  Dalpha  Dbeta/2\n",
       "SO4H2   16.256   865.8  np.nan   np.nan\n",
       "H2O     25.096  3148.2  np.nan  -8.7e-3\n",
       "CO2     26.100   639.6  np.nan  -1.7e-3\n",
       "NH3     27.863    2016  -0.888   np.nan\n",
       "NH4SH   75.678  2915.7  -1.760   7.8e-4\n",
       "CH4      1.627   553.1   1.002  -4.1e-3\n",
       "SH2     17.064     747  np.nan  -2.9e-3\n",
       "C2H6    10.136   521.4  np.nan   np.nan\n",
       "Fe       1.894    7097  np.nan   np.nan\n",
       "MgSiO3  11.554  4877.5  np.nan   np.nan"
      ]
     },
     "execution_count": 123,
     "metadata": {},
     "output_type": "execute_result"
    }
   ],
   "source": [
    "df2 = pd.DataFrame(table2, columns=columns2, index=names)    \n",
    "df2"
   ]
  },
  {
   "cell_type": "markdown",
   "metadata": {},
   "source": [
    "## Clouds in planetary atmospheres\n",
    "* condensation and cloud formation occurs whenever the partial pressure $P_p$ of the vapor exceeds the  saturation vapor pressure $P_V(T)$: $$P_p = X_CP(T)\\geq P_V(T) $$\n",
    "* saturation vapor pressure curve $P_V(T)/X_C \\rightarrow$ which gases condense to form clouds and at what pressure altitude the clouds form"
   ]
  },
  {
   "cell_type": "code",
   "execution_count": 207,
   "metadata": {
    "collapsed": false
   },
   "outputs": [],
   "source": [
    "T = np.arange(100,800,1)\n",
    "\n",
    "P_V = {}\n",
    "planet = 'Titan'\n",
    "species = list(df.composition[planet].keys())[0]\n",
    "\n",
    "for idx,i in enumerate(df2.index):\n",
    "    lnC= float(df2['ln(C)'][idx])\n",
    "    L_0 = float(df2['L_0'][idx])\n",
    "    \n",
    "    if df2['Dalpha'][idx] == 'np.nan':\n",
    "        Dalpha = np.nan\n",
    "    else:\n",
    "        Dalpha = float(df2['Dalpha'][idx])\n",
    "    \n",
    "    if df2['Dbeta/2'][idx] == 'np.nan':\n",
    "        Dbeta = np.nan\n",
    "    else:\n",
    "        Dbeta = float(df2['Dbeta/2'][idx])*2.0\n",
    "    R_V = float(df.composition[planet][species])\n",
    "    P_Vi = []\n",
    "    for j in T:\n",
    "        P_Vi.append(lnC + 1.0/R_V *(-L_0/j + Dalpha * np.log(j) + Dbeta/2.0)*j)\n",
    "    P_V[i] = P_Vi"
   ]
  },
  {
   "cell_type": "code",
   "execution_count": 208,
   "metadata": {
    "collapsed": false
   },
   "outputs": [
    {
     "data": {
      "text/plain": [
       "dict_keys(['C2H6', 'MgSiO3', 'SO4H2', 'H2O', 'NH4SH', 'NH3', 'CO2', 'Fe', 'SH2', 'CH4'])"
      ]
     },
     "execution_count": 208,
     "metadata": {},
     "output_type": "execute_result"
    }
   ],
   "source": [
    "P_V.keys()"
   ]
  },
  {
   "cell_type": "code",
   "execution_count": 209,
   "metadata": {
    "collapsed": false
   },
   "outputs": [
    {
     "name": "stdout",
     "output_type": "stream",
     "text": [
      "NH4SH\n",
      "CH4\n"
     ]
    }
   ],
   "source": [
    "for k in P_V.keys():\n",
    "    if not np.isnan(P_V[k][0]):\n",
    "        print(k)"
   ]
  },
  {
   "cell_type": "code",
   "execution_count": 210,
   "metadata": {
    "collapsed": false,
    "scrolled": true
   },
   "outputs": [
    {
     "data": {
      "text/plain": [
       "[<matplotlib.lines.Line2D at 0x7f562c357f60>]"
      ]
     },
     "execution_count": 210,
     "metadata": {},
     "output_type": "execute_result"
    },
    {
     "data": {
      "image/png": "[encoded data removed]",
      "text/plain": [
       "<matplotlib.figure.Figure at 0x7f562c4e0a90>"
      ]
     },
     "metadata": {},
     "output_type": "display_data"
    }
   ],
   "source": [
    "%matplotlib inline\n",
    "import matplotlib.pyplot as plt\n",
    "\n",
    "plt.plot(T,P_V['NH4SH'])"
   ]
  },
  {
   "cell_type": "code",
   "execution_count": 211,
   "metadata": {
    "collapsed": false
   },
   "outputs": [
    {
     "data": {
      "text/plain": [
       "[<matplotlib.lines.Line2D at 0x7f562c2d2208>]"
      ]
     },
     "execution_count": 211,
     "metadata": {},
     "output_type": "execute_result"
    },
    {
     "data": {
      "image/png": "[encoded data removed]",
      "text/plain": [
       "<matplotlib.figure.Figure at 0x7f562c467780>"
      ]
     },
     "metadata": {},
     "output_type": "display_data"
    }
   ],
   "source": [
    "plt.plot(T,P_V['CH4'])"
   ]
  },
  {
   "cell_type": "code",
   "execution_count": null,
   "metadata": {
    "collapsed": true
   },
   "outputs": [],
   "source": []
  }
 ],
 "metadata": {
  "kernelspec": {
   "display_name": "Python 3",
   "language": "python",
   "name": "python3"
  },
  "language_info": {
   "codemirror_mode": {
    "name": "ipython",
    "version": 3
   },
   "file_extension": ".py",
   "mimetype": "text/x-python",
   "name": "python",
   "nbconvert_exporter": "python",
   "pygments_lexer": "ipython3",
   "version": "3.5.3"
  }
 },
 "nbformat": 4,
 "nbformat_minor": 2
}
